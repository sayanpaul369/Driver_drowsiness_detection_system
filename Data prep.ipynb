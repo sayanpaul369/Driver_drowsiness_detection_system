{
 "cells": [
  {
   "cell_type": "code",
   "execution_count": 4,
   "id": "ad28b1bc",
   "metadata": {},
   "outputs": [],
   "source": [
    "import os\n",
    "import shutil\n",
    "import glob\n",
    "\n",
    "# from tqdr import tqdr"
   ]
  },
  {
   "cell_type": "code",
   "execution_count": 5,
   "id": "8f3cacc3",
   "metadata": {},
   "outputs": [],
   "source": [
    "Raw_dir=r\"C:\\Users\\JOY KARMAKAR\\Desktop\\projects\\driver_drowsiness_detection\\mrlEyes_2018_01\""
   ]
  },
  {
   "cell_type": "code",
   "execution_count": 6,
   "id": "298a77a6",
   "metadata": {},
   "outputs": [],
   "source": [
    "for dirpath,dirname,filenames in os.walk(Raw_dir):\n",
    "    for i in ([f for f in filenames if f.endswith('.png')]):\n",
    "        if i.split(\"_\")[4]=='0':\n",
    "            shutil.copy(src=dirpath+'/'+i,dst=r'C:\\Users\\JOY KARMAKAR\\Desktop\\projects\\driver_drowsiness_detection\\Prepared_Data\\Closed_Eyes')\n",
    "        elif i.split('_')[4]=='1':\n",
    "            shutil.copy(src=dirpath+'/'+i,dst=r'C:\\Users\\JOY KARMAKAR\\Desktop\\projects\\driver_drowsiness_detection\\Prepared_Data\\Open_Eyes')\n",
    "        "
   ]
  },
  {
   "cell_type": "code",
   "execution_count": null,
   "id": "502a4d22",
   "metadata": {},
   "outputs": [],
   "source": []
  }
 ],
 "metadata": {
  "kernelspec": {
   "display_name": "Python 3 (ipykernel)",
   "language": "python",
   "name": "python3"
  },
  "language_info": {
   "codemirror_mode": {
    "name": "ipython",
    "version": 3
   },
   "file_extension": ".py",
   "mimetype": "text/x-python",
   "name": "python",
   "nbconvert_exporter": "python",
   "pygments_lexer": "ipython3",
   "version": "3.11.5"
  }
 },
 "nbformat": 4,
 "nbformat_minor": 5
}
